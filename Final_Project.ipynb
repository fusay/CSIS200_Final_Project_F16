{
 "cells": [
  {
   "cell_type": "code",
   "execution_count": 27,
   "metadata": {
    "collapsed": false
   },
   "outputs": [
    {
     "name": "stdout",
     "output_type": "stream",
     "text": [
      "My name is Mafuse Solomon\n"
     ]
    }
   ],
   "source": [
    "# Edit this cell to print out your name.\n",
    "print \"My name is %s\" % (\"Mafuse Solomon\")"
   ]
  },
  {
   "cell_type": "markdown",
   "metadata": {},
   "source": [
    "# Predicting the weather\n",
    "\n",
    "***For all of the questions in this project, assume that 1 month = 30 days.***"
   ]
  },
  {
   "cell_type": "markdown",
   "metadata": {},
   "source": [
    "## Problem 1 (20 pts)\n",
    "\n",
    "Suppose there is a 20% chance it will rain on any given day in a month. What are the odds that that rains on one and only one day in a month. \n",
    "\n",
    "Work this problem out a*nalytically* (with pen and paper, using a formula) and write it up in your final document.\n",
    "\n",
    "Here you should solve the same problem *numerically* using a Monte Carlo approach, similar to how we approached the birthday problem in class. \n",
    "\n",
    "Make sure that both approaches give you a similar result. "
   ]
  },
  {
   "cell_type": "code",
   "execution_count": 1,
   "metadata": {
    "collapsed": false
   },
   "outputs": [],
   "source": [
    "import numpy as np\n",
    "from numpy import random\n",
    "\n",
    "\n",
    "def chance_rain():\n",
    "    ran_number = random.random()\n",
    "    \n",
    "    rainprb = 0\n",
    "    if ran_number >= 0 and ran_number <= .2:\n",
    "        rainprb = 1\n",
    "       \n",
    "    return rainprb"
   ]
  },
  {
   "cell_type": "code",
   "execution_count": 2,
   "metadata": {
    "collapsed": true
   },
   "outputs": [],
   "source": [
    "def month():\n",
    "    rain_days = []\n",
    "    for i in range(0,30):\n",
    "        rain = chance_rain()\n",
    "        rain_days.append(rain)\n",
    "    x = sum(rain_days)\n",
    "    if x == 1:\n",
    "        return 1\n",
    "    else:\n",
    "        return 0"
   ]
  },
  {
   "cell_type": "code",
   "execution_count": 4,
   "metadata": {
    "collapsed": false
   },
   "outputs": [
    {
     "name": "stdout",
     "output_type": "stream",
     "text": [
      "9170\n",
      "0.00917\n"
     ]
    }
   ],
   "source": [
    "months = 1000000\n",
    "\n",
    "rained = []\n",
    "for i in range(0,months):\n",
    "    day_rained = month()\n",
    "    rained.append(day_rained)\n",
    "x = sum(rained)\n",
    "print x\n",
    "\n",
    "odds = x/float(months)\n",
    "print odds"
   ]
  },
  {
   "cell_type": "markdown",
   "metadata": {},
   "source": [
    "## Problem 2 (20 pts)\n",
    "\n",
    "Suppose there is a 10% chance that it will rain on any given day in a month. What are the odds that it rains at least 8 days (in any order) that month?\n",
    "\n",
    "Work this problem out *numerically* using a Monte Carlo approach. "
   ]
  },
  {
   "cell_type": "code",
   "execution_count": 7,
   "metadata": {
    "collapsed": false
   },
   "outputs": [],
   "source": [
    "\n",
    "def chance_rain():\n",
    "    ran_number = random.random()\n",
    "    \n",
    "    rainprb = 0\n",
    "    if ran_number >= 0 and ran_number <= .1:\n",
    "        rainprb = 1\n",
    "       \n",
    "    return rainprb\n"
   ]
  },
  {
   "cell_type": "code",
   "execution_count": 6,
   "metadata": {
    "collapsed": true
   },
   "outputs": [],
   "source": [
    "def month():\n",
    "    rain_days = []\n",
    "    for i in range(0,30):\n",
    "        rain = chance_rain()\n",
    "        rain_days.append(rain)\n",
    "    x = sum(rain_days)\n",
    "    if x >= 8:\n",
    "        return 1\n",
    "    else:\n",
    "        return 0"
   ]
  },
  {
   "cell_type": "code",
   "execution_count": 34,
   "metadata": {
    "collapsed": false
   },
   "outputs": [
    {
     "name": "stdout",
     "output_type": "stream",
     "text": [
      "7754\n",
      "0.007754\n"
     ]
    }
   ],
   "source": [
    "months = 1000000\n",
    "\n",
    "rained = []\n",
    "for i in range(0,months):\n",
    "    day_rained = month()\n",
    "    rained.append(day_rained)\n",
    "x = sum(rained)\n",
    "print x\n",
    "\n",
    "odds = x/float(months)\n",
    "print odds"
   ]
  },
  {
   "cell_type": "markdown",
   "metadata": {},
   "source": [
    "## Problem 3 \n",
    "\n",
    "### 3a (20 pts)\n",
    "\n",
    "Suppose that if it rains one day, the odds of a certain amount of rainfall *on that day* are\n",
    "\n",
    "* 1 cm   20%\n",
    "* 2 cm   30%\n",
    "* 3 cm   30%\n",
    "* 4 cm   10%\n",
    "* 5 cm   10%\n",
    "\n",
    "However the odds of it raining are dependent on if it rained the day before.\n",
    "\n",
    "* If it is the first day of the month, there is a 10% chance of rain.\n",
    "* If it rained 1 day before, but not 2 days before, there is a 20% chance of rain. \n",
    "* If it rained both of the 2 days before, but not the 3rd day before, there is a 25% chance of rain.\n",
    "* If it rained for the 3 days (or more) before, there is a 5% chance of rain. \n",
    "* Otherwise, there is a 10% chance of rain\n",
    "\n",
    "What are the odds that there are at least 10 cm of rain in a given month?\n",
    "\n",
    "Work this problem out using a Monte Carlo approach. "
   ]
  },
  {
   "cell_type": "code",
   "execution_count": null,
   "metadata": {
    "collapsed": false
   },
   "outputs": [],
   "source": [
    "# Your code here"
   ]
  },
  {
   "cell_type": "markdown",
   "metadata": {},
   "source": [
    "### 3b (10 pts)\n",
    "\n",
    "Make a histogram of the distribtion of expected rainfall values. You can get this from your Monte Carlo trials. \n",
    "\n",
    "Make sure you label everything clearly. "
   ]
  },
  {
   "cell_type": "code",
   "execution_count": null,
   "metadata": {
    "collapsed": false
   },
   "outputs": [],
   "source": [
    "# Your code here?"
   ]
  },
  {
   "cell_type": "markdown",
   "metadata": {},
   "source": [
    "### 3c (10 pts)\n",
    "\n",
    "What is the average amount of rain to fall in any given month? \n",
    "\n"
   ]
  },
  {
   "cell_type": "code",
   "execution_count": null,
   "metadata": {
    "collapsed": false
   },
   "outputs": [],
   "source": [
    "# Your code here?"
   ]
  },
  {
   "cell_type": "markdown",
   "metadata": {},
   "source": [
    "### 3d (20)\n",
    "\n",
    "Once you find the average value, someone might ask you for the uncertainty (some people also refer to uncertainty as the \"*error*\") on your prediction. That can be tricky to calculate, so often what is given is just a *range* of possible values. \"We estimate the rainfall to be between X cm and Y cm.\" The question is, how to decide what that range is. \n",
    "\n",
    "The way this is often done is to find the middle 95% of the trial values (from your Monte Carlo run) and then use the low-edge and the high-edge of that range. If you're concerned about the middle 95%, then 2.5% of the values are below them and 2.5% of all the values are above them. The rainfall values at those edges are what you use for the ranges to quote. \n",
    "\n",
    "This is what people mean when they say, \"I'm 95% confident that the rainfall will be between X and Y\", and when you write it up for the LaTeX document, you should also quote it this way. \n",
    "\n",
    "*Hint!* This part becomes much easier if you sort all the values using any of the numpy/Python sort functions you can read about online. When you sort them, you should be able to find what rainfall is at the edge for the lower 2.5% and the higher 2.5%. "
   ]
  },
  {
   "cell_type": "code",
   "execution_count": null,
   "metadata": {
    "collapsed": false
   },
   "outputs": [],
   "source": [
    "# Your code here"
   ]
  }
 ],
 "metadata": {
  "anaconda-cloud": {},
  "kernelspec": {
   "display_name": "Python [Root]",
   "language": "python",
   "name": "Python [Root]"
  },
  "language_info": {
   "codemirror_mode": {
    "name": "ipython",
    "version": 2
   },
   "file_extension": ".py",
   "mimetype": "text/x-python",
   "name": "python",
   "nbconvert_exporter": "python",
   "pygments_lexer": "ipython2",
   "version": "2.7.12"
  }
 },
 "nbformat": 4,
 "nbformat_minor": 0
}
